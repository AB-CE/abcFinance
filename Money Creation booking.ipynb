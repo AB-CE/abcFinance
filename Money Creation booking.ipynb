{
 "cells": [
  {
   "cell_type": "code",
   "execution_count": 1,
   "metadata": {
    "scrolled": true
   },
   "outputs": [
    {
     "name": "stderr",
     "output_type": "stream",
     "text": [
      "/Users/taghawi/Dropbox/workspace/abce/message_plugin/lib/python3.6/site-packages/bokeh/util/deprecation.py:34: BokehDeprecationWarning: \n",
      "The bokeh.charts API has moved to a separate 'bkcharts' package.\n",
      "\n",
      "This compatibility shim will remain until Bokeh 1.0 is released.\n",
      "After that, if you want to use this API you will have to install\n",
      "the bkcharts package explicitly.\n",
      "\n",
      "  warn(message)\n"
     ]
    }
   ],
   "source": [
    "import abce\n",
    "import abcFinance\n",
    "from account import s"
   ]
  },
  {
   "cell_type": "code",
   "execution_count": 2,
   "metadata": {},
   "outputs": [],
   "source": [
    "class Bank(abcFinance.Agent):\n",
    "    def init(self, reserves=0, loans=0, deposits=0):\n",
    "        self.make_asset_accounts(['reserves', 'loans'])\n",
    "        self.make_liability_accounts(['deposits'])\n",
    "        self.make_flow_accounts(['interest income'])\n",
    "        #self.make_residual_account('equity')\n",
    "        self.book(debit=[('reserves', reserves), ('loans', loans)], \n",
    "                  credit=[('deposits', deposits), ('equity', reserves + loans - deposits)], \n",
    "                  text='Capital endowment')\n",
    "        self.book_end_of_period()\n",
    "        \n",
    "class Household(abcFinance.Agent):\n",
    "    def init(self, money=0, loans=0, participations=0):\n",
    "        self.make_asset_accounts(['money','participations'])\n",
    "        self.make_liability_accounts(['loans'])\n",
    "        self.make_flow_accounts(['dividend income','interest expenses'])\n",
    "        #self.make_residual_account('equity')\n",
    "        self.book(debit=[('money', money),('participations', participations)], \n",
    "                  credit=[('loans', loans), ('equity', money + participations - loans)], \n",
    "                  text='Initial endowment')\n",
    "        self.book_end_of_period()"
   ]
  },
  {
   "cell_type": "markdown",
   "metadata": {},
   "source": [
    "## Initialize the system with outside money endowments"
   ]
  },
  {
   "cell_type": "code",
   "execution_count": 3,
   "metadata": {},
   "outputs": [
    {
     "name": "stdout",
     "output_type": "stream",
     "text": [
      "Bank\n",
      "Asset accounts:\n",
      "   reserves : 100\n",
      "Liability accounts:\n",
      "   deposits : 100\n",
      "Equity:  0\n",
      "Total Assets:  100\n",
      "--\n",
      "Household\n",
      "Asset accounts:\n",
      "   money : 100\n",
      "Liability accounts:\n",
      "Equity:  100\n",
      "Total Assets:  100\n",
      "--\n",
      "Bank owner\n",
      "Asset accounts:\n",
      "   participations : 100\n",
      "Liability accounts:\n",
      "Equity:  100\n",
      "Total Assets:  100\n",
      "--\n"
     ]
    },
    {
     "data": {
      "text/plain": [
       "<abce.group.Chain at 0x1141a2048>"
      ]
     },
     "execution_count": 3,
     "metadata": {},
     "output_type": "execute_result"
    }
   ],
   "source": [
    "sim = abce.Simulation()\n",
    "bank = sim.build_agents(Bank, 'bank', number=1, reserves=100,deposits=100)\n",
    "household = sim.build_agents(Household, 'household', number=1, money=100, loans=0)\n",
    "bank_owner = sim.build_agents(Household, 'bank_owner', number=1, participations=100)\n",
    "print('Bank')\n",
    "bank.print_balance_sheet()\n",
    "print('Household')\n",
    "household.print_balance_sheet()\n",
    "print('Bank owner')\n",
    "bank_owner.print_balance_sheet()"
   ]
  },
  {
   "cell_type": "markdown",
   "metadata": {},
   "source": [
    "## Granting of a loan"
   ]
  },
  {
   "cell_type": "code",
   "execution_count": 4,
   "metadata": {},
   "outputs": [
    {
     "name": "stdout",
     "output_type": "stream",
     "text": [
      "Bank\n",
      "Asset accounts:\n",
      "   reserves : 100\n",
      "   loans : 100\n",
      "Liability accounts:\n",
      "   deposits : 200\n",
      "Equity:  0\n",
      "Total Assets:  200\n",
      "--\n",
      "Household\n",
      "Asset accounts:\n",
      "   money : 200\n",
      "Liability accounts:\n",
      "   loans : 100\n",
      "Equity:  100\n",
      "Total Assets:  200\n",
      "--\n"
     ]
    },
    {
     "data": {
      "text/plain": [
       "<abce.group.Chain at 0x114198780>"
      ]
     },
     "execution_count": 4,
     "metadata": {},
     "output_type": "execute_result"
    }
   ],
   "source": [
    "bank.book(debit=[('loans', 100)], credit=[('deposits', 100)], text='Loan granting')\n",
    "household.book(debit=[('money', 100)], credit=[('loans', 100)], text='Take out loan')\n",
    "print('Bank')\n",
    "bank.print_balance_sheet()\n",
    "print('Household')\n",
    "household.print_balance_sheet()"
   ]
  },
  {
   "cell_type": "markdown",
   "metadata": {},
   "source": [
    "## Interest payment"
   ]
  },
  {
   "cell_type": "code",
   "execution_count": 5,
   "metadata": {},
   "outputs": [
    {
     "name": "stdout",
     "output_type": "stream",
     "text": [
      "Bank\n",
      "Asset accounts:\n",
      "   reserves : 100\n",
      "   loans : 100\n",
      "Liability accounts:\n",
      "   deposits : 190\n",
      "Equity:  0\n",
      "Total Assets:  200\n",
      "--\n",
      "Flow accounts:\n",
      "   interest income : 10\n",
      "Profit for period:  10\n",
      "--\n",
      "Household\n",
      "Asset accounts:\n",
      "   money : 190\n",
      "Liability accounts:\n",
      "   loans : 100\n",
      "Equity:  100\n",
      "Total Assets:  190\n",
      "--\n",
      "Flow accounts:\n",
      "   interest expenses : -10\n",
      "Profit for period:  -10\n",
      "--\n"
     ]
    },
    {
     "data": {
      "text/plain": [
       "<abce.group.Chain at 0x1141a22e8>"
      ]
     },
     "execution_count": 5,
     "metadata": {},
     "output_type": "execute_result"
    }
   ],
   "source": [
    "household.book(debit=[('interest expenses', 10)], credit=[('money', 10)], text='Interest payment')\n",
    "bank.book(debit=[('deposits', 10)], credit=[('interest income', 10)], text='Interest payment')\n",
    "print('Bank')\n",
    "bank.print_balance_sheet()\n",
    "bank.print_profit_and_loss()\n",
    "print('Household')\n",
    "household.print_balance_sheet()\n",
    "household.print_profit_and_loss()"
   ]
  },
  {
   "cell_type": "markdown",
   "metadata": {},
   "source": [
    "## Dividend payment"
   ]
  },
  {
   "cell_type": "code",
   "execution_count": 6,
   "metadata": {},
   "outputs": [
    {
     "name": "stdout",
     "output_type": "stream",
     "text": [
      "Bank\n",
      "Asset accounts:\n",
      "   reserves : 100\n",
      "   loans : 100\n",
      "Liability accounts:\n",
      "   deposits : 200\n",
      "Equity:  -10\n",
      "Total Assets:  200\n",
      "--\n",
      "Flow accounts:\n",
      "   interest income : 10\n",
      "Profit for period:  10\n",
      "Profit distribution and capital actions\n",
      "   Dividend payment : -10\n",
      "--\n",
      "Bank owner\n",
      "Asset accounts:\n",
      "   money : 10\n",
      "   participations : 100\n",
      "Liability accounts:\n",
      "Equity:  100\n",
      "Total Assets:  110\n",
      "--\n",
      "Flow accounts:\n",
      "   dividend income : 10\n",
      "Profit for period:  10\n",
      "--\n"
     ]
    },
    {
     "data": {
      "text/plain": [
       "<abce.group.Chain at 0x1141a24a8>"
      ]
     },
     "execution_count": 6,
     "metadata": {},
     "output_type": "execute_result"
    }
   ],
   "source": [
    "bank.book(debit=[('equity', 10)], credit=[('deposits', 10)], text='Dividend payment')\n",
    "bank_owner.book(debit=[('money', 10)], credit=[('dividend income', 10)], text='Dividend payment')\n",
    "print('Bank')\n",
    "bank.print_balance_sheet()\n",
    "bank.print_profit_and_loss()\n",
    "print('Bank owner')\n",
    "bank_owner.print_balance_sheet()\n",
    "bank_owner.print_profit_and_loss()"
   ]
  },
  {
   "cell_type": "markdown",
   "metadata": {},
   "source": [
    "## Loan principal repayment"
   ]
  },
  {
   "cell_type": "code",
   "execution_count": 7,
   "metadata": {},
   "outputs": [
    {
     "name": "stdout",
     "output_type": "stream",
     "text": [
      "Bank\n",
      "Asset accounts:\n",
      "   reserves : 100\n",
      "Liability accounts:\n",
      "   deposits : 100\n",
      "Equity:  -10\n",
      "Total Assets:  100\n",
      "--\n",
      "Household\n",
      "Asset accounts:\n",
      "   money : 90\n",
      "Liability accounts:\n",
      "Equity:  100\n",
      "Total Assets:  90\n",
      "--\n",
      "Bank owner\n",
      "Asset accounts:\n",
      "   money : 10\n",
      "   participations : 100\n",
      "Liability accounts:\n",
      "Equity:  100\n",
      "Total Assets:  110\n",
      "--\n"
     ]
    },
    {
     "data": {
      "text/plain": [
       "<abce.group.Chain at 0x1141a2550>"
      ]
     },
     "execution_count": 7,
     "metadata": {},
     "output_type": "execute_result"
    }
   ],
   "source": [
    "household.book(debit=[('loans', 100)], credit=[('money', 100)], text='Principal repayment')\n",
    "bank.book(debit=[('deposits', 100)], credit=[('loans', 100)], text='Principal repayment')\n",
    "print('Bank')\n",
    "bank.print_balance_sheet()\n",
    "print('Household')\n",
    "household.print_balance_sheet()\n",
    "print('Bank owner')\n",
    "bank_owner.print_balance_sheet()"
   ]
  }
 ],
 "metadata": {
  "kernelspec": {
   "display_name": "Python 3",
   "language": "python",
   "name": "python3"
  },
  "language_info": {
   "codemirror_mode": {
    "name": "ipython",
    "version": 3
   },
   "file_extension": ".py",
   "mimetype": "text/x-python",
   "name": "python",
   "nbconvert_exporter": "python",
   "pygments_lexer": "ipython3",
   "version": "3.6.1"
  }
 },
 "nbformat": 4,
 "nbformat_minor": 2
}
