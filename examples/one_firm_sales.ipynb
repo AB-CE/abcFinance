{
 "cells": [
  {
   "cell_type": "markdown",
   "metadata": {},
   "source": [
    "# Examples of simple booking statements"
   ]
  },
  {
   "cell_type": "code",
   "execution_count": null,
   "metadata": {},
   "outputs": [],
   "source": [
    "from abcFinance import Ledger\n",
    "\n",
    "firm = Ledger(residual_account_name='Equity')\n",
    "\n",
    "firm.make_flow_accounts(['Sales revenue','Cost of goods sold'])\n",
    "firm.make_asset_accounts(['Receivables','Cash','Inventory'])\n",
    "firm.make_liability_accounts(['Current tax liabilities'])\n",
    "\n",
    "firm.print_balance_sheet(show_empty_accounts=True)\n",
    "firm.print_profit_and_loss(show_empty_accounts=True)"
   ]
  },
  {
   "cell_type": "markdown",
   "metadata": {},
   "source": [
    "## Capital paid in by owners"
   ]
  },
  {
   "cell_type": "code",
   "execution_count": null,
   "metadata": {},
   "outputs": [],
   "source": [
    "firm.book(debit=[('Cash', 50), ('Receivables', 50)], credit=[('Equity', 100)], text='Second capital endowment')\n",
    "firm.print_balance_sheet()\n",
    "firm.print_profit_and_loss()"
   ]
  },
  {
   "cell_type": "markdown",
   "metadata": {},
   "source": [
    "## Purchase of inventory goods"
   ]
  },
  {
   "cell_type": "code",
   "execution_count": null,
   "metadata": {},
   "outputs": [],
   "source": [
    "firm.book_end_of_period()\n",
    "firm.book(debit=[('Inventory', 50)], credit=[('Cash', 50)], text='Inventory purchase')\n",
    "firm.print_balance_sheet()"
   ]
  },
  {
   "cell_type": "markdown",
   "metadata": {},
   "source": [
    "## Sale against later payment"
   ]
  },
  {
   "cell_type": "code",
   "execution_count": null,
   "metadata": {},
   "outputs": [],
   "source": [
    "firm.book(debit=[('Receivables', 60)], \n",
    "          credit=[('Sales revenue', 50),('Current tax liabilities', 10)], \n",
    "          text='Sale against claim')\n",
    "firm.book(debit=[('Cost of goods sold', 25)], credit=[('Inventory', 25)], text='Sale against claim')\n",
    "firm.print_profit_and_loss()\n",
    "firm.book_end_of_period()\n",
    "firm.print_balance_sheet()"
   ]
  },
  {
   "cell_type": "markdown",
   "metadata": {},
   "source": [
    "## Receive payment"
   ]
  },
  {
   "cell_type": "code",
   "execution_count": null,
   "metadata": {},
   "outputs": [],
   "source": [
    "firm.book(debit=[('Cash', 60)], credit=[('Receivables', 60)], text='Receipt of payment')\n",
    "firm.print_balance_sheet()"
   ]
  },
  {
   "cell_type": "markdown",
   "metadata": {},
   "source": [
    "## Pay VAT"
   ]
  },
  {
   "cell_type": "code",
   "execution_count": null,
   "metadata": {},
   "outputs": [],
   "source": [
    "firm.book(debit=[('Current tax liabilities', 10)], credit=[('Cash', 10)], text='VAT payment')\n",
    "firm.print_balance_sheet()"
   ]
  }
 ],
 "metadata": {
  "kernelspec": {
   "display_name": "Python 3",
   "language": "python",
   "name": "python3"
  },
  "language_info": {
   "codemirror_mode": {
    "name": "ipython",
    "version": 3
   },
   "file_extension": ".py",
   "mimetype": "text/x-python",
   "name": "python",
   "nbconvert_exporter": "python",
   "pygments_lexer": "ipython3",
   "version": "3.6.1"
  }
 },
 "nbformat": 4,
 "nbformat_minor": 2
}
